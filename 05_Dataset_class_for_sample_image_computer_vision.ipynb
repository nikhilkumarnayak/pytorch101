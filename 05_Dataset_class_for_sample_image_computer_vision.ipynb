{
 "cells": [
  {
   "cell_type": "markdown",
   "metadata": {},
   "source": [
    "# Dataset class for sample image/computer_vision problems"
   ]
  },
  {
   "cell_type": "code",
   "execution_count": 5,
   "metadata": {},
   "outputs": [],
   "source": [
    "import torch\n",
    "import cv2\n",
    "import numpy as np"
   ]
  },
  {
   "cell_type": "code",
   "execution_count": 6,
   "metadata": {},
   "outputs": [],
   "source": [
    "class CustomDataset:\n",
    "    def __init__(self,image_paths,targets,agumentations=None) -> None:\n",
    "        self.image_paths = image_paths\n",
    "        self.targets = targets\n",
    "        self.agumentations = agumentations\n",
    "    \n",
    "    def __len__(self):\n",
    "        return len(self.image_paths)\n",
    "    \n",
    "    def __getitem__(self, idx):\n",
    "        target = self.targets[idx]\n",
    "        image = cv2.imread(self.image_paths[idx])\n",
    "        image = cv2.cvtColor(image,cv2.COLOR_BGR2RGB) # BGR->RGB\n",
    "        if self.agumentations is not None:\n",
    "            agumented = self.agumentations(image=image,mask=mask)\n",
    "            image = agumented[\"image\"]\n",
    "            mask = agumented['mask']\n",
    "        # torch.tensor.unsqueeze(0) #-- for grey scale\n",
    "        image = np.transpose(image,(2,0,1)).astype(np.float32)\n",
    "        return{\n",
    "            'image':torch.tensor(image),\n",
    "            'target':torch.tensor(target)\n",
    "        }\n"
   ]
  },
  {
   "cell_type": "code",
   "execution_count": null,
   "metadata": {},
   "outputs": [],
   "source": []
  }
 ],
 "metadata": {
  "kernelspec": {
   "display_name": "Python 3.10.5 64-bit",
   "language": "python",
   "name": "python3"
  },
  "language_info": {
   "codemirror_mode": {
    "name": "ipython",
    "version": 3
   },
   "file_extension": ".py",
   "mimetype": "text/x-python",
   "name": "python",
   "nbconvert_exporter": "python",
   "pygments_lexer": "ipython3",
   "version": "3.10.5"
  },
  "orig_nbformat": 4,
  "vscode": {
   "interpreter": {
    "hash": "49925a85a85dac8a2dca5afbebde9d93135fdd4b812dbf89ef8044a5eedbb9bf"
   }
  }
 },
 "nbformat": 4,
 "nbformat_minor": 2
}
