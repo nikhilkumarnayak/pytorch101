{
 "cells": [
  {
   "cell_type": "markdown",
   "metadata": {},
   "source": [
    "# Linear Regression in Pytorch"
   ]
  },
  {
   "cell_type": "code",
   "execution_count": 4,
   "metadata": {},
   "outputs": [],
   "source": [
    "import torch\n",
    "from sklearn.datasets import make_classification\n",
    "from sklearn.model_selection import train_test_split\n",
    "from sklearn import metrics"
   ]
  },
  {
   "cell_type": "code",
   "execution_count": 8,
   "metadata": {},
   "outputs": [],
   "source": [
    "class CustomDataset:\n",
    "    def __init__(self,data,targets) -> None:\n",
    "        self.data = data\n",
    "        self.targets = targets\n",
    "    def __len__(self):\n",
    "        return len(self.data)\n",
    "    \n",
    "    def __getitem__(self, idx):\n",
    "        current_sample = self.data[idx,:]\n",
    "        current_target = self.targets[idx]\n",
    "        return {\n",
    "            \"x\" : torch.tensor(current_sample,dtype=torch.float),\n",
    "            \"y\" : torch.tensor(current_target,dtype=torch.long),\n",
    "        }"
   ]
  },
  {
   "cell_type": "code",
   "execution_count": 9,
   "metadata": {},
   "outputs": [],
   "source": [
    "data, targets = make_classification(n_samples=1000)"
   ]
  },
  {
   "cell_type": "code",
   "execution_count": 10,
   "metadata": {},
   "outputs": [],
   "source": [
    "train_data, test_data, train_targets , test_targets = train_test_split(data, targets, stratify=targets)"
   ]
  },
  {
   "cell_type": "code",
   "execution_count": 11,
   "metadata": {},
   "outputs": [],
   "source": [
    "train_dataset = CustomDataset(train_data,train_targets)\n",
    "test_dataset = CustomDataset(test_data,test_targets)"
   ]
  },
  {
   "cell_type": "code",
   "execution_count": 12,
   "metadata": {},
   "outputs": [],
   "source": [
    "train_loader = torch.utils.data.DataLoader(train_dataset,batch_size=4,num_workers=2) \n",
    "test_loader = torch.utils.data.DataLoader(test_dataset,batch_size=4,num_workers=2) "
   ]
  },
  {
   "cell_type": "code",
   "execution_count": 13,
   "metadata": {},
   "outputs": [],
   "source": [
    "model =lambda x,w,b : torch.matmul(x,w)+b"
   ]
  },
  {
   "cell_type": "code",
   "execution_count": 14,
   "metadata": {},
   "outputs": [
    {
     "data": {
      "text/plain": [
       "(750, 20)"
      ]
     },
     "execution_count": 14,
     "metadata": {},
     "output_type": "execute_result"
    }
   ],
   "source": [
    "train_data.shape"
   ]
  },
  {
   "cell_type": "code",
   "execution_count": 3,
   "metadata": {},
   "outputs": [
    {
     "name": "stderr",
     "output_type": "stream",
     "text": [
      "C:\\Users\\nikhi\\AppData\\Local\\Temp\\ipykernel_45980\\1917142437.py:1: UserWarning: Failed to initialize NumPy: module compiled against API version 0x10 but this version of numpy is 0xf (Triggered internally at  ..\\torch\\csrc\\utils\\tensor_numpy.cpp:68.)\n",
      "  W = torch.randn(20,1,requires_grad=True)\n"
     ]
    },
    {
     "ename": "NameError",
     "evalue": "name 'train_loader' is not defined",
     "output_type": "error",
     "traceback": [
      "\u001b[1;31m---------------------------------------------------------------------------\u001b[0m",
      "\u001b[1;31mNameError\u001b[0m                                 Traceback (most recent call last)",
      "\u001b[1;32mc:\\Users\\nikhi\\ds_projects\\pytorch\\pytorch101\\07.Linear_regression_in_pytorch.ipynb Cell 10\u001b[0m in \u001b[0;36m<cell line: 5>\u001b[1;34m()\u001b[0m\n\u001b[0;32m      <a href='vscode-notebook-cell:/c%3A/Users/nikhi/ds_projects/pytorch/pytorch101/07.Linear_regression_in_pytorch.ipynb#X12sZmlsZQ%3D%3D?line=5'>6</a>\u001b[0m epoch_loss \u001b[39m=\u001b[39m \u001b[39m0\u001b[39m\n\u001b[0;32m      <a href='vscode-notebook-cell:/c%3A/Users/nikhi/ds_projects/pytorch/pytorch101/07.Linear_regression_in_pytorch.ipynb#X12sZmlsZQ%3D%3D?line=6'>7</a>\u001b[0m counter \u001b[39m=\u001b[39m \u001b[39m0\u001b[39m\n\u001b[1;32m----> <a href='vscode-notebook-cell:/c%3A/Users/nikhi/ds_projects/pytorch/pytorch101/07.Linear_regression_in_pytorch.ipynb#X12sZmlsZQ%3D%3D?line=7'>8</a>\u001b[0m \u001b[39mfor\u001b[39;00m data \u001b[39min\u001b[39;00m train_loader:\n\u001b[0;32m      <a href='vscode-notebook-cell:/c%3A/Users/nikhi/ds_projects/pytorch/pytorch101/07.Linear_regression_in_pytorch.ipynb#X12sZmlsZQ%3D%3D?line=8'>9</a>\u001b[0m     xtrain \u001b[39m=\u001b[39m data[\u001b[39m'\u001b[39m\u001b[39mx\u001b[39m\u001b[39m'\u001b[39m]\n\u001b[0;32m     <a href='vscode-notebook-cell:/c%3A/Users/nikhi/ds_projects/pytorch/pytorch101/07.Linear_regression_in_pytorch.ipynb#X12sZmlsZQ%3D%3D?line=9'>10</a>\u001b[0m     ytrain \u001b[39m=\u001b[39m data[\u001b[39m'\u001b[39m\u001b[39my\u001b[39m\u001b[39m'\u001b[39m]\n",
      "\u001b[1;31mNameError\u001b[0m: name 'train_loader' is not defined"
     ]
    }
   ],
   "source": [
    "W = torch.randn(20,1,requires_grad=True)\n",
    "b = torch.randn(1,requires_grad=True)\n",
    "learning_rate = 0.001\n",
    "\n",
    "# for epoch in range(10):\n",
    "#     epoch_loss = 0\n",
    "#     counter = 0\n",
    "#     for data in train_loader:\n",
    "#         xtrain = data['x']\n",
    "#         ytrain = data['y']\n",
    "\n",
    "#         print(W.grad)\n",
    "#         if W.grad is not None:\n",
    "#             W.grad_zero_()\n",
    "\n",
    "#         output = model(xtrain,W,b)\n",
    "#         loss - torch.mean((ytrain.view(-1)-output.view(-1)**2))\n",
    "#         epoch_loss = epoch_loss+ loss.item()\n",
    "#         loss.backward()\n",
    "#         print(W.grad)\n",
    "\n",
    "#         with torch.no_grad():\n",
    "#             W = W - learning_rate * W.grad\n",
    "#             b = b - learning_rate * b.grad\n",
    "#         print(W.grad)\n",
    "\n",
    "#         W.requires_grad_(True)\n",
    "#         b.requires_grad_(True)\n",
    "#         counter += 1\n",
    "\n",
    "#     print(epoch,epoch_loss/counter)"
   ]
  },
  {
   "cell_type": "code",
   "execution_count": 1,
   "metadata": {},
   "outputs": [
    {
     "ename": "NameError",
     "evalue": "name 'torch' is not defined",
     "output_type": "error",
     "traceback": [
      "\u001b[1;31m---------------------------------------------------------------------------\u001b[0m",
      "\u001b[1;31mNameError\u001b[0m                                 Traceback (most recent call last)",
      "\u001b[1;32mc:\\Users\\nikhi\\ds_projects\\pytorch\\pytorch101\\07.Linear_regression_in_pytorch.ipynb Cell 11\u001b[0m in \u001b[0;36m<cell line: 4>\u001b[1;34m()\u001b[0m\n\u001b[0;32m      <a href='vscode-notebook-cell:/c%3A/Users/nikhi/ds_projects/pytorch/pytorch101/07.Linear_regression_in_pytorch.ipynb#X13sZmlsZQ%3D%3D?line=0'>1</a>\u001b[0m outputs \u001b[39m=\u001b[39m []\n\u001b[0;32m      <a href='vscode-notebook-cell:/c%3A/Users/nikhi/ds_projects/pytorch/pytorch101/07.Linear_regression_in_pytorch.ipynb#X13sZmlsZQ%3D%3D?line=1'>2</a>\u001b[0m labels \u001b[39m=\u001b[39m []\n\u001b[1;32m----> <a href='vscode-notebook-cell:/c%3A/Users/nikhi/ds_projects/pytorch/pytorch101/07.Linear_regression_in_pytorch.ipynb#X13sZmlsZQ%3D%3D?line=3'>4</a>\u001b[0m \u001b[39mwith\u001b[39;00m torch\u001b[39m.\u001b[39mno_grad():\n\u001b[0;32m      <a href='vscode-notebook-cell:/c%3A/Users/nikhi/ds_projects/pytorch/pytorch101/07.Linear_regression_in_pytorch.ipynb#X13sZmlsZQ%3D%3D?line=4'>5</a>\u001b[0m     \u001b[39mfor\u001b[39;00m data \u001b[39min\u001b[39;00m test_loader:\n\u001b[0;32m      <a href='vscode-notebook-cell:/c%3A/Users/nikhi/ds_projects/pytorch/pytorch101/07.Linear_regression_in_pytorch.ipynb#X13sZmlsZQ%3D%3D?line=5'>6</a>\u001b[0m         xtest\u001b[39m=\u001b[39m data[\u001b[39m'\u001b[39m\u001b[39mx\u001b[39m\u001b[39m'\u001b[39m]\n",
      "\u001b[1;31mNameError\u001b[0m: name 'torch' is not defined"
     ]
    }
   ],
   "source": [
    "outputs = []\n",
    "labels = []\n",
    "\n",
    "with torch.no_grad():\n",
    "    for data in test_loader:\n",
    "        xtest= data['x']\n",
    "        ytest = data['y']\n",
    "\n",
    "        output = model(xtest,W,b)\n",
    "        labels.append(ytest)\n",
    "        outputs.append(output)"
   ]
  },
  {
   "cell_type": "code",
   "execution_count": null,
   "metadata": {},
   "outputs": [],
   "source": [
    "torch.cat(outputs).view(-1)"
   ]
  },
  {
   "cell_type": "code",
   "execution_count": null,
   "metadata": {},
   "outputs": [],
   "source": [
    "metrics.roc_auc_score(torch.cat(labels).view(-1),torch.cat(outputs).view(-1))"
   ]
  },
  {
   "cell_type": "code",
   "execution_count": null,
   "metadata": {},
   "outputs": [],
   "source": [
    "for epoch in range(10):\n",
    "    epoch_loss = 0\n",
    "    counter = 0\n",
    "    for data in train_loader:\n",
    "        xtrain = data['x']\n",
    "        ytrain = data['y']\n",
    "\n",
    "        print(W.grad)\n",
    "        if W.grad is not None:\n",
    "            W.grad_zero_()\n",
    "\n",
    "        output = model(xtrain,W,b)\n",
    "        loss = torch.mean((ytrain.view(-1)-output.view(-1)**2))\n",
    "        epoch_loss = epoch_loss+ loss.item()\n",
    "        loss.backward()\n",
    "        print(W.grad)\n",
    "\n",
    "        with torch.no_grad():\n",
    "            W = W - learning_rate * W.grad\n",
    "            b = b - learning_rate * b.grad\n",
    "        print(W.grad)\n",
    "\n",
    "        W.requires_grad_(True)\n",
    "        b.requires_grad_(True)\n",
    "        counter += 1\n",
    "\n",
    "    print(epoch,epoch_loss/counter)"
   ]
  },
  {
   "cell_type": "code",
   "execution_count": null,
   "metadata": {},
   "outputs": [],
   "source": [
    "outputs = []\n",
    "labels = []\n",
    "\n",
    "with torch.no_grad():\n",
    "    for data in test_loader:\n",
    "        xtest= data['x']\n",
    "        ytest = data['y']\n",
    "\n",
    "        output = model(xtest,W,b)\n",
    "        labels.append(ytest)\n",
    "        outputs.append(output)"
   ]
  },
  {
   "cell_type": "code",
   "execution_count": null,
   "metadata": {},
   "outputs": [],
   "source": [
    "metrics.roc_auc_score(torch.cat(labels).view(-1),torch.cat(outputs).view(-1))"
   ]
  }
 ],
 "metadata": {
  "kernelspec": {
   "display_name": "Python 3.10.5 64-bit",
   "language": "python",
   "name": "python3"
  },
  "language_info": {
   "codemirror_mode": {
    "name": "ipython",
    "version": 3
   },
   "file_extension": ".py",
   "mimetype": "text/x-python",
   "name": "python",
   "nbconvert_exporter": "python",
   "pygments_lexer": "ipython3",
   "version": "3.10.5"
  },
  "orig_nbformat": 4,
  "vscode": {
   "interpreter": {
    "hash": "49925a85a85dac8a2dca5afbebde9d93135fdd4b812dbf89ef8044a5eedbb9bf"
   }
  }
 },
 "nbformat": 4,
 "nbformat_minor": 2
}
